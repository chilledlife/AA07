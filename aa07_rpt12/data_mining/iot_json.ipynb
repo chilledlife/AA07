{
  "cells": [
    {
      "cell_type": "markdown",
      "metadata": {
        "id": "Cd-a94M0f5tL"
      },
      "source": [
        "# MongoDB에 저장된 IoT 데이터 시각화"
      ]
    },
    {
      "cell_type": "markdown",
      "metadata": {
        "id": "oYht3IoGwlyU"
      },
      "source": [
        "## Pandas: access to the remote json from MongoDB\n",
        "- The json file is generated on the fly from the express server of Node.js.\n",
        "- The data retrieved from MongoDB are saved in the json file.\n",
        "- The data are composed of three time series; temperature, humidity, and luminosity wuth date.\n"
      ]
    },
    {
      "cell_type": "code",
      "execution_count": null,
      "metadata": {
        "id": "GYezm0oWwlyW"
      },
      "outputs": [],
      "source": [
        "import pandas as pd"
      ]
    },
    {
      "cell_type": "code",
      "execution_count": null,
      "metadata": {
        "id": "jguBydRLwlyc"
      },
      "outputs": [],
      "source": [
        "# loading json file from MongoDB via web (CORS, port=3030)\n",
        "url=\"http://life21c.inje.ac.kr:3030/iot\"\n",
        "df=pd.read_json(url)\n",
        "print('Large data was retrieved successfully from MongoDB!')"
      ]
    },
    {
      "cell_type": "code",
      "execution_count": null,
      "metadata": {
        "id": "f9jQ2mEQ14BD"
      },
      "outputs": [],
      "source": [
        "df.shape, type(df)"
      ]
    },
    {
      "cell_type": "code",
      "execution_count": null,
      "metadata": {
        "id": "ATXd9T04wlyg"
      },
      "outputs": [],
      "source": [
        "df.head()"
      ]
    },
    {
      "cell_type": "code",
      "execution_count": null,
      "metadata": {
        "id": "Qz0XxhI4wlyn"
      },
      "outputs": [],
      "source": [
        "df.tail()"
      ]
    },
    {
      "cell_type": "code",
      "execution_count": null,
      "metadata": {
        "id": "Ba7jYmgKwlyx"
      },
      "outputs": [],
      "source": [
        "df.info()"
      ]
    },
    {
      "cell_type": "code",
      "execution_count": null,
      "metadata": {
        "id": "6VGEIgiEydOV"
      },
      "outputs": [],
      "source": [
        "df.describe().T"
      ]
    },
    {
      "cell_type": "markdown",
      "metadata": {
        "id": "H5gtQbgCw62w"
      },
      "source": [
        "### Dataframe with date and three sensor values(temperature, humidity, luminosity)"
      ]
    },
    {
      "cell_type": "code",
      "execution_count": null,
      "metadata": {
        "id": "wLi8PDa_wly3"
      },
      "outputs": [],
      "source": [
        "iot_data = df[['date', 'temperature', 'humidity', 'luminosity']]"
      ]
    },
    {
      "cell_type": "code",
      "execution_count": null,
      "metadata": {
        "id": "NWW0Y_Zswly8"
      },
      "outputs": [],
      "source": [
        "iot_data.shape"
      ]
    },
    {
      "cell_type": "code",
      "execution_count": null,
      "metadata": {
        "id": "QrsngVb8wlzA"
      },
      "outputs": [],
      "source": [
        "iot_data.head()  # date와 3 개의 신호를 확인."
      ]
    },
    {
      "cell_type": "code",
      "execution_count": null,
      "metadata": {
        "id": "ZI7ggvWpwlzG"
      },
      "outputs": [],
      "source": [
        "iot_data.info()"
      ]
    },
    {
      "cell_type": "code",
      "execution_count": null,
      "metadata": {
        "id": "sKH2MLA7lxjh"
      },
      "outputs": [],
      "source": [
        "# Save iot data in csv file.\n",
        "iot_data.to_csv('iot_data_211117.csv')"
      ]
    },
    {
      "cell_type": "code",
      "execution_count": null,
      "metadata": {
        "id": "2QB6w7uvuN6R"
      },
      "outputs": [],
      "source": [
        "# Plot boxplot\n",
        "iot_data[['temperature','humidity','luminosity']].plot.box(title='Boxplot of temperature, humidity, and luminosity')\n",
        "# iot_data.loc[:,'temperature':'luminosity'].plot.box(title='Boxplot of temperature, humidity, and luminosity')\n",
        "# iot_data.iloc[:,1:].plot.box(title='Boxplot of temperature, humidity, and luminosity')"
      ]
    },
    {
      "cell_type": "markdown",
      "metadata": {
        "id": "feFqm_ocxRjV"
      },
      "source": [
        "### Plot time series of sensor data"
      ]
    },
    {
      "cell_type": "code",
      "execution_count": null,
      "metadata": {
        "id": "AM_CyVjawlzM"
      },
      "outputs": [],
      "source": [
        "iot_data.plot(x='date', y='temperature', figsize=(12,6), title='temperature')"
      ]
    },
    {
      "cell_type": "code",
      "execution_count": null,
      "metadata": {
        "id": "SAy74_iEwlzQ"
      },
      "outputs": [],
      "source": [
        "iot_data.plot(x='date', y='humidity', figsize=(12,6), title='humidity')"
      ]
    },
    {
      "cell_type": "code",
      "execution_count": null,
      "metadata": {
        "id": "d7kyWhVDwlzW"
      },
      "outputs": [],
      "source": [
        "iot_data.plot(x='date', y='luminosity', figsize=(12,6), title='luminosity')"
      ]
    },
    {
      "cell_type": "markdown",
      "metadata": {
        "id": "4W2OVUXZ0eKc"
      },
      "source": [
        "#### 다중그래프 (multiple fgraphs)"
      ]
    },
    {
      "cell_type": "code",
      "execution_count": null,
      "metadata": {
        "id": "7XiF7ghFwlzc"
      },
      "outputs": [],
      "source": [
        "# Plot of ['temperature','humidity']\n",
        "iot_data.plot(x='date', y=['temperature','humidity'], figsize=(12,6), title='temperature and humidity')"
      ]
    },
    {
      "cell_type": "code",
      "execution_count": null,
      "metadata": {
        "id": "3tH-ca5Jwlzi"
      },
      "outputs": [],
      "source": [
        "# Plot of ['temperature','humidity','luminosity']\n",
        "iot_data.plot(x='date', y=['temperature','humidity','luminosity'], figsize=(12,6), \n",
        "             title='temperature, humidity, and luminosity')"
      ]
    },
    {
      "cell_type": "markdown",
      "metadata": {
        "id": "6yaOaE05xthv"
      },
      "source": [
        "#### Plot the mean of sensor data"
      ]
    },
    {
      "cell_type": "code",
      "execution_count": null,
      "metadata": {
        "id": "455qOpbbwlzp"
      },
      "outputs": [],
      "source": [
        "iot_data[['temperature','humidity','luminosity']].mean()  "
      ]
    },
    {
      "cell_type": "code",
      "execution_count": null,
      "metadata": {
        "id": "26ZUc5ULwlzw"
      },
      "outputs": [],
      "source": [
        "iot_data[['temperature','humidity','luminosity']].mean().plot.bar(figsize=(8,6), \n",
        "                                                                  title=\"Mean of temperature, humidity, and luminosity\")"
      ]
    },
    {
      "cell_type": "markdown",
      "metadata": {
        "id": "LxgcWZ2wx6TQ"
      },
      "source": [
        "### Plot the change of sensor data over various time spans.\n",
        "\n",
        "> time span: 60 sec, 1 hour, 1 day, 1 week"
      ]
    },
    {
      "cell_type": "markdown",
      "metadata": {
        "id": "ndt4b_ZTwlz1"
      },
      "source": [
        "#### Set date as index of timestamp"
      ]
    },
    {
      "cell_type": "code",
      "execution_count": null,
      "metadata": {
        "id": "V6MpkrDhwlz2"
      },
      "outputs": [],
      "source": [
        "iot_data.set_index('date',inplace=True)"
      ]
    },
    {
      "cell_type": "code",
      "execution_count": null,
      "metadata": {
        "id": "gY7QvLKbwlz5"
      },
      "outputs": [],
      "source": [
        "iot_data.info() # timestamp index"
      ]
    },
    {
      "cell_type": "code",
      "execution_count": null,
      "metadata": {
        "id": "5fjfDVvhwlz-"
      },
      "outputs": [],
      "source": [
        "iot_data.head()"
      ]
    },
    {
      "cell_type": "code",
      "execution_count": null,
      "metadata": {
        "id": "TDkJgBRJwl0D"
      },
      "outputs": [],
      "source": [
        "# Estimate the mean of the iot data for every minute\n",
        "iot_data.resample('60S').mean()"
      ]
    },
    {
      "cell_type": "code",
      "execution_count": null,
      "metadata": {
        "id": "pTaucOzzwl0H"
      },
      "outputs": [],
      "source": [
        "#  Plot mean of the iot data per every minute\n",
        "iot_data.resample('60S').mean().plot(figsize=(12,6), \n",
        "                                     title='Minutely change of temperature, humidity, and luminosity')"
      ]
    },
    {
      "cell_type": "code",
      "execution_count": null,
      "metadata": {
        "id": "cMHVdg3awl0M"
      },
      "outputs": [],
      "source": [
        "# Estimate the mean of iot data for every hour\n",
        "iot_data.resample('H').mean()  # mean per each hour"
      ]
    },
    {
      "cell_type": "code",
      "execution_count": null,
      "metadata": {
        "id": "7zNu8qnxwl0Q"
      },
      "outputs": [],
      "source": [
        "#  Plot mean of the iot data per every hour \n",
        "iot_data.resample('H').mean().plot(figsize=(12,6), \n",
        "                                   title='Hourly change of temperature, humidity, and luminosity', \n",
        "                                   ylim=[0,500])"
      ]
    },
    {
      "cell_type": "code",
      "execution_count": null,
      "metadata": {
        "id": "JyLg04APwl0W"
      },
      "outputs": [],
      "source": [
        "# Estimate the mean of iot data for every day\n",
        "iot_data.resample('D').mean()"
      ]
    },
    {
      "cell_type": "code",
      "execution_count": null,
      "metadata": {
        "id": "xuIjKqS4wl0b"
      },
      "outputs": [],
      "source": [
        "#  Plot mean of the iot data per every day\n",
        "iot_data.resample('D').mean().plot(kind='bar', #marker='o', ms=6, figsize=(12,6), \n",
        "                                   title='Daily change of temperature, humidity, and luminosity')"
      ]
    },
    {
      "cell_type": "code",
      "execution_count": null,
      "metadata": {
        "id": "HtVlVQjtyifN"
      },
      "outputs": [],
      "source": [
        "# Estimate the mean of iot data for every week\n",
        "iot_data.resample('W').mean()"
      ]
    },
    {
      "cell_type": "code",
      "execution_count": null,
      "metadata": {
        "id": "-2V_u9mAyo3z"
      },
      "outputs": [],
      "source": [
        "#  Plot mean of the iot data per every week\n",
        "iot_data.resample('W').mean().plot(kind='bar', #marker='o', ms=10, \n",
        "                                   figsize=(12,6), \n",
        "                                   title='Weekly change of temperature, humidity, and luminosity')"
      ]
    },
    {
      "cell_type": "markdown",
      "metadata": {
        "id": "CiIDU0dHwl0h"
      },
      "source": [
        "## 와, Great!"
      ]
    },
    {
      "cell_type": "markdown",
      "metadata": {
        "id": "yBO-7vTu3MQr"
      },
      "source": [
        "---"
      ]
    }
  ],
  "metadata": {
    "colab": {
      "collapsed_sections": [],
      "name": "iot_json.ipynb",
      "private_outputs": true,
      "provenance": []
    },
    "kernelspec": {
      "display_name": "Python 3",
      "name": "python3"
    }
  },
  "nbformat": 4,
  "nbformat_minor": 0
}
